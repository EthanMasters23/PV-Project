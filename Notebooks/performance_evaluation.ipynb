{
 "cells": [
  {
   "cell_type": "code",
   "execution_count": 1,
   "metadata": {
    "scrolled": true
   },
   "outputs": [
    {
     "name": "stderr",
     "output_type": "stream",
     "text": [
      "2023-06-12 23:11:00.467897: I tensorflow/core/platform/cpu_feature_guard.cc:193] This TensorFlow binary is optimized with oneAPI Deep Neural Network Library (oneDNN) to use the following CPU instructions in performance-critical operations:  SSE4.1 SSE4.2 AVX AVX2 FMA\n",
      "To enable them in other operations, rebuild TensorFlow with the appropriate compiler flags.\n"
     ]
    }
   ],
   "source": [
    "import os\n",
    "import pandas as pd\n",
    "import numpy as np\n",
    "import re\n",
    "\n",
    "import sys\n",
    "module_path = re.sub(r'Notebooks','Python Scripts',os.getcwd())\n",
    "sys.path.append(module_path)\n",
    "from performance_helper import *"
   ]
  },
  {
   "cell_type": "code",
   "execution_count": 2,
   "metadata": {
    "scrolled": true
   },
   "outputs": [],
   "source": [
    "def main(year, month, file, gap_length):\n",
    "    if not re.search(r'\\d{4}',year):\n",
    "        raise Exception(f\"Incorret Input: {year}\")\n",
    "    elif not re.search(r'[A-Za-z]{3}',month):\n",
    "        raise Exception(f\"Incorret Input: {month}\")\n",
    "    elif not [file_i for file_i in ['Irradiance','Deger','Fixed'] if re.search(fr'{file}',file_i)]:\n",
    "        raise Exception(f\"Incorret Input: File\")\n",
    "    else:\n",
    "        path_list,_ = get_file_paths(file)\n",
    "        path_list = path_function(year,month,path_list)\n",
    "        df = df_cleaner(path_list,file)\n",
    "    return df, file, year, month, gap_length"
   ]
  },
  {
   "cell_type": "code",
   "execution_count": 3,
   "metadata": {
    "scrolled": true
   },
   "outputs": [],
   "source": [
    "def imputation_methods(test_df, df_copy, ml_df, test_gaps):\n",
    "    imputation_dict = {}\n",
    "#     zoo_functions(test_df.copy())\n",
    "    imputation_dict['MLP_Multi'] = mlp_multi(test_df.copy(), ml_df.copy(), df_copy.copy(), test_gaps).to_dict()\n",
    "#     imputation_dict['MLP'] = mlp(test_df.copy(), ml_df.copy(), df_copy.copy(), test_gaps).to_dict()\n",
    "#     imputation_dict['Kalman Smoothing'] = kalman(test_df.copy(), df_copy.copy(), test_gaps).to_dict()\n",
    "    imputation_dict['ARIMA'] = ARIMA(test_df.copy(), df_copy.copy(), test_gaps).to_dict()\n",
    "#     imputation_dict['Seasonal Decomposition'] = seasonal_decom(test_df.copy(), df_copy.copy(), test_gaps).to_dict()\n",
    "#     imputation_dict['Zoo Interpolation'] = zoo_interpolation(test_df.copy(), df_copy.copy(), test_gaps).to_dict()\n",
    "#     imputation_dict['Zoo Spline'] = zoo_spline(test_df.copy(), df_copy.copy(), test_gaps).to_dict()\n",
    "#     imputation_dict['Forecast Interpolation'] = forecast_interpolate(test_df.copy(), df_copy.copy(), test_gaps).to_dict()\n",
    "    imputation_dict['Python Interpolate'] = interpolate(test_df.copy(), df_copy.copy(), test_gaps).to_dict()\n",
    "    imputation_df = pd.DataFrame.from_dict({(outerKey, innerKey): values for outerKey, innerDict in imputation_dict.items() for innerKey, values in innerDict.items()}).T\n",
    "    return imputation_df"
   ]
  },
  {
   "cell_type": "code",
   "execution_count": 4,
   "metadata": {
    "scrolled": true
   },
   "outputs": [],
   "source": [
    "def performance_test(df, file, gap_length):\n",
    "    \n",
    "    imputation_df = pd.DataFrame()\n",
    "    \n",
    "    for _ in range(1):\n",
    "                \n",
    "        test_df = df.copy()\n",
    "    \n",
    "        test_df, base_df = missing_value_simulation(test_df, gap_length)\n",
    "        \n",
    "        test_df, base_df, month_i = missing_data_beg_end_month(test_df, base_df, file)\n",
    "        \n",
    "        test_df, ml_df = meteoblue_data(test_df, file)\n",
    "\n",
    "        test_gaps = map_nan_gaps_indexes(test_df, month_i)\n",
    "        \n",
    "        output_df = imputation_methods(test_df, base_df, ml_df, test_gaps)\n",
    "        \n",
    "        if imputation_df.empty:\n",
    "            imputation_df = output_df.copy()\n",
    "        else:\n",
    "            imputation_df = (imputation_df + output_df) / 2\n",
    "            \n",
    "    return imputation_df, test_gaps"
   ]
  },
  {
   "cell_type": "code",
   "execution_count": 5,
   "metadata": {
    "scrolled": true
   },
   "outputs": [],
   "source": [
    "def performance(imputation_df):    \n",
    "    r2_df = pd.DataFrame(imputation_df.drop(['mae','mse','rmse'], axis=0,level=1).max(axis=0),columns = ['r2'])\n",
    "    r2_df['Method'] = imputation_df.drop(['mae','mse','rmse'], axis=0,level=1).idxmax(axis=0).values\n",
    "    mae_df = pd.DataFrame(imputation_df.drop(['r2','mse','rmse'], axis=0,level=1).min(axis=0),columns = ['mae'])\n",
    "    mae_df['Method'] = imputation_df.drop(['r2','mse','rmse'], axis=0,level=1).idxmin(axis=0).values\n",
    "    rmse_df = pd.DataFrame(imputation_df.drop(['r2','mse','mae'], axis=0,level=1).min(axis=0),columns = ['rmse'])\n",
    "    rmse_df['Method'] = imputation_df.drop(['r2','mse','mae'], axis=0,level=1).idxmin(axis=0).values\n",
    "    mse_df = pd.DataFrame(imputation_df.drop(['r2','rmse','mae'], axis=0,level=1).min(axis=0),columns = ['mse'])\n",
    "    mse_df['Method'] = imputation_df.drop(['r2','rmse','mae'], axis=0,level=1).idxmin(axis=0).values\n",
    "    for row in r2_df.index:\n",
    "        print(row)\n",
    "        print(f\"Optimal Imputation Method for {row}: {r2_df.loc[row]['Method'][0]}, R2 score: {round(r2_df.loc[row]['r2'],5)}\")\n",
    "        print(f\"Optimal Imputation Method for {row}: {mae_df.loc[row]['Method'][0]}, MAE score: {round(mae_df.loc[row]['mae'],5)}\")\n",
    "        print(f\"Optimal Imputation Method for {row}: {rmse_df.loc[row]['Method'][0]}, RMSE score: {round(rmse_df.loc[row]['rmse'],5)}\")\n",
    "        print(f\"Optimal Imputation Method for {row}: {mse_df.loc[row]['Method'][0]}, MSE score: {round(mse_df.loc[row]['mse'],5)}\\n\")\n",
    "        \n",
    "    return imputation_df"
   ]
  },
  {
   "cell_type": "code",
   "execution_count": 6,
   "metadata": {
    "scrolled": false
   },
   "outputs": [
    {
     "name": "stdout",
     "output_type": "stream",
     "text": [
      "Year (format: YYYY): 2022\n",
      "Month (format: jul): jul\n",
      "File (opt: Irradiance/Deger/Fixed): Irradiance\n",
      "Gap size (seconds): 200\n"
     ]
    },
    {
     "name": "stderr",
     "output_type": "stream",
     "text": [
      "2023-06-12 23:12:12.065261: I tensorflow/core/platform/cpu_feature_guard.cc:193] This TensorFlow binary is optimized with oneAPI Deep Neural Network Library (oneDNN) to use the following CPU instructions in performance-critical operations:  SSE4.1 SSE4.2 AVX AVX2 FMA\n",
      "To enable them in other operations, rebuild TensorFlow with the appropriate compiler flags.\n"
     ]
    },
    {
     "name": "stdout",
     "output_type": "stream",
     "text": [
      "1/1 [==============================] - 0s 93ms/step\n"
     ]
    }
   ],
   "source": [
    "# = Load all the Data = #\n",
    "test_df, file, year, month, gap_length = main(year = input(\"Year (format: YYYY): \"),month = input(\"Month (format: jul): \"),\n",
    "     file = input(\"File (opt: Irradiance/Deger/Fixed): \"), gap_length = int(input(\"Gap size (seconds): \")))\n",
    "\n",
    "# = perform imputation test = #\n",
    "imputation_df, test_gaps = performance_test(test_df, file, gap_length)"
   ]
  },
  {
   "cell_type": "code",
   "execution_count": 7,
   "metadata": {},
   "outputs": [
    {
     "name": "stdout",
     "output_type": "stream",
     "text": [
      "\n",
      "Imputation methods for Irradiance and error statistics for 2022, jul with a 200 second gap from 2022-07-25 11:56:20+00:00 - 2022-07-25 11:59:00+00:00.\n",
      "\n",
      "GlobalIR\n",
      "Optimal Imputation Method for GlobalIR: Python Interpolate, R2 score: -0.28654\n",
      "Optimal Imputation Method for GlobalIR: Python Interpolate, MAE score: 98.61435\n",
      "Optimal Imputation Method for GlobalIR: Python Interpolate, RMSE score: 111.88745\n",
      "Optimal Imputation Method for GlobalIR: Python Interpolate, MSE score: 12518.80063\n",
      "\n",
      "DirectIR\n",
      "Optimal Imputation Method for DirectIR: ARIMA, R2 score: 0.3459\n",
      "Optimal Imputation Method for DirectIR: ARIMA, MAE score: 7.65951\n",
      "Optimal Imputation Method for DirectIR: ARIMA, RMSE score: 8.76159\n",
      "Optimal Imputation Method for DirectIR: ARIMA, MSE score: 76.76547\n",
      "\n",
      "DiffuseIR\n",
      "Optimal Imputation Method for DiffuseIR: Python Interpolate, R2 score: -0.58824\n",
      "Optimal Imputation Method for DiffuseIR: Python Interpolate, MAE score: 102.77917\n",
      "Optimal Imputation Method for DiffuseIR: Python Interpolate, RMSE score: 119.04477\n",
      "Optimal Imputation Method for DiffuseIR: Python Interpolate, MSE score: 14171.65773\n",
      "\n",
      "WindSpeed\n",
      "Optimal Imputation Method for WindSpeed: Python Interpolate, R2 score: -0.28737\n",
      "Optimal Imputation Method for WindSpeed: ARIMA, MAE score: 0.30398\n",
      "Optimal Imputation Method for WindSpeed: Python Interpolate, RMSE score: 0.35733\n",
      "Optimal Imputation Method for WindSpeed: Python Interpolate, MSE score: 0.12769\n",
      "\n",
      "Temperature\n",
      "Optimal Imputation Method for Temperature: ARIMA, R2 score: 0.90787\n",
      "Optimal Imputation Method for Temperature: ARIMA, MAE score: 0.04516\n",
      "Optimal Imputation Method for Temperature: ARIMA, RMSE score: 0.05311\n",
      "Optimal Imputation Method for Temperature: ARIMA, MSE score: 0.00282\n",
      "\n"
     ]
    },
    {
     "data": {
      "text/html": [
       "<div>\n",
       "<style scoped>\n",
       "    .dataframe tbody tr th:only-of-type {\n",
       "        vertical-align: middle;\n",
       "    }\n",
       "\n",
       "    .dataframe tbody tr th {\n",
       "        vertical-align: top;\n",
       "    }\n",
       "\n",
       "    .dataframe thead th {\n",
       "        text-align: right;\n",
       "    }\n",
       "</style>\n",
       "<table border=\"1\" class=\"dataframe\">\n",
       "  <thead>\n",
       "    <tr style=\"text-align: right;\">\n",
       "      <th></th>\n",
       "      <th></th>\n",
       "      <th>GlobalIR</th>\n",
       "      <th>DirectIR</th>\n",
       "      <th>DiffuseIR</th>\n",
       "      <th>WindSpeed</th>\n",
       "      <th>Temperature</th>\n",
       "    </tr>\n",
       "  </thead>\n",
       "  <tbody>\n",
       "    <tr>\n",
       "      <th rowspan=\"4\" valign=\"top\">MLP_Multi</th>\n",
       "      <th>mae</th>\n",
       "      <td>411.827581</td>\n",
       "      <td>186.064157</td>\n",
       "      <td>219.165889</td>\n",
       "      <td>0.616483</td>\n",
       "      <td>10.313761</td>\n",
       "    </tr>\n",
       "    <tr>\n",
       "      <th>mse</th>\n",
       "      <td>179107.978894</td>\n",
       "      <td>34773.026892</td>\n",
       "      <td>56766.239325</td>\n",
       "      <td>0.467572</td>\n",
       "      <td>106.464280</td>\n",
       "    </tr>\n",
       "    <tr>\n",
       "      <th>rmse</th>\n",
       "      <td>423.211506</td>\n",
       "      <td>186.475272</td>\n",
       "      <td>238.256667</td>\n",
       "      <td>0.683792</td>\n",
       "      <td>10.318153</td>\n",
       "    </tr>\n",
       "    <tr>\n",
       "      <th>r2</th>\n",
       "      <td>-17.406742</td>\n",
       "      <td>-295.293252</td>\n",
       "      <td>-5.361879</td>\n",
       "      <td>-3.714220</td>\n",
       "      <td>-3476.260754</td>\n",
       "    </tr>\n",
       "    <tr>\n",
       "      <th rowspan=\"4\" valign=\"top\">ARIMA</th>\n",
       "      <th>mae</th>\n",
       "      <td>116.122656</td>\n",
       "      <td>7.659511</td>\n",
       "      <td>109.731290</td>\n",
       "      <td>0.303983</td>\n",
       "      <td>0.045155</td>\n",
       "    </tr>\n",
       "    <tr>\n",
       "      <th>mse</th>\n",
       "      <td>18112.642323</td>\n",
       "      <td>76.765465</td>\n",
       "      <td>16388.532322</td>\n",
       "      <td>0.128295</td>\n",
       "      <td>0.002821</td>\n",
       "    </tr>\n",
       "    <tr>\n",
       "      <th>rmse</th>\n",
       "      <td>134.583217</td>\n",
       "      <td>8.761590</td>\n",
       "      <td>128.017703</td>\n",
       "      <td>0.358184</td>\n",
       "      <td>0.053110</td>\n",
       "    </tr>\n",
       "    <tr>\n",
       "      <th>r2</th>\n",
       "      <td>-0.861418</td>\n",
       "      <td>0.345898</td>\n",
       "      <td>-0.836688</td>\n",
       "      <td>-0.293519</td>\n",
       "      <td>0.907874</td>\n",
       "    </tr>\n",
       "    <tr>\n",
       "      <th rowspan=\"4\" valign=\"top\">Python Interpolate</th>\n",
       "      <th>mae</th>\n",
       "      <td>98.614352</td>\n",
       "      <td>8.412963</td>\n",
       "      <td>102.779167</td>\n",
       "      <td>0.320926</td>\n",
       "      <td>0.086111</td>\n",
       "    </tr>\n",
       "    <tr>\n",
       "      <th>mse</th>\n",
       "      <td>12518.800627</td>\n",
       "      <td>91.234290</td>\n",
       "      <td>14171.657726</td>\n",
       "      <td>0.127686</td>\n",
       "      <td>0.008866</td>\n",
       "    </tr>\n",
       "    <tr>\n",
       "      <th>rmse</th>\n",
       "      <td>111.887446</td>\n",
       "      <td>9.551664</td>\n",
       "      <td>119.044772</td>\n",
       "      <td>0.357332</td>\n",
       "      <td>0.094158</td>\n",
       "    </tr>\n",
       "    <tr>\n",
       "      <th>r2</th>\n",
       "      <td>-0.286544</td>\n",
       "      <td>0.222613</td>\n",
       "      <td>-0.588239</td>\n",
       "      <td>-0.287375</td>\n",
       "      <td>0.710433</td>\n",
       "    </tr>\n",
       "  </tbody>\n",
       "</table>\n",
       "</div>"
      ],
      "text/plain": [
       "                              GlobalIR      DirectIR     DiffuseIR  WindSpeed  \\\n",
       "MLP_Multi          mae      411.827581    186.064157    219.165889   0.616483   \n",
       "                   mse   179107.978894  34773.026892  56766.239325   0.467572   \n",
       "                   rmse     423.211506    186.475272    238.256667   0.683792   \n",
       "                   r2       -17.406742   -295.293252     -5.361879  -3.714220   \n",
       "ARIMA              mae      116.122656      7.659511    109.731290   0.303983   \n",
       "                   mse    18112.642323     76.765465  16388.532322   0.128295   \n",
       "                   rmse     134.583217      8.761590    128.017703   0.358184   \n",
       "                   r2        -0.861418      0.345898     -0.836688  -0.293519   \n",
       "Python Interpolate mae       98.614352      8.412963    102.779167   0.320926   \n",
       "                   mse    12518.800627     91.234290  14171.657726   0.127686   \n",
       "                   rmse     111.887446      9.551664    119.044772   0.357332   \n",
       "                   r2        -0.286544      0.222613     -0.588239  -0.287375   \n",
       "\n",
       "                         Temperature  \n",
       "MLP_Multi          mae     10.313761  \n",
       "                   mse    106.464280  \n",
       "                   rmse    10.318153  \n",
       "                   r2   -3476.260754  \n",
       "ARIMA              mae      0.045155  \n",
       "                   mse      0.002821  \n",
       "                   rmse     0.053110  \n",
       "                   r2       0.907874  \n",
       "Python Interpolate mae      0.086111  \n",
       "                   mse      0.008866  \n",
       "                   rmse     0.094158  \n",
       "                   r2       0.710433  "
      ]
     },
     "execution_count": 7,
     "metadata": {},
     "output_type": "execute_result"
    }
   ],
   "source": [
    "## = print imputation test results = #\n",
    "print(f\"\\nImputation methods for {file} and error statistics for {year}, {month} with a {gap_length} second gap from {test_df.index[min(test_gaps[test_df.columns[0]])]} - {test_df.index[max(test_gaps[test_df.columns[0]])]}.\\n\")\n",
    "performance(imputation_df)"
   ]
  }
 ],
 "metadata": {
  "kernelspec": {
   "display_name": "Python 3 (ipykernel)",
   "language": "python",
   "name": "python3"
  },
  "language_info": {
   "codemirror_mode": {
    "name": "ipython",
    "version": 3
   },
   "file_extension": ".py",
   "mimetype": "text/x-python",
   "name": "python",
   "nbconvert_exporter": "python",
   "pygments_lexer": "ipython3",
   "version": "3.10.11"
  }
 },
 "nbformat": 4,
 "nbformat_minor": 4
}
