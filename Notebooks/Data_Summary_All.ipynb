{
 "cells": [
  {
   "cell_type": "markdown",
   "metadata": {},
   "source": [
    "$$\\large \\text{Packages \\& Specs} $$"
   ]
  },
  {
   "cell_type": "code",
   "execution_count": null,
   "metadata": {},
   "outputs": [],
   "source": [
    "import os\n",
    "import pandas as pd\n",
    "import numpy as np\n",
    "import pvlib\n",
    "import re\n",
    "\n",
    "import plotly.express as px"
   ]
  },
  {
   "cell_type": "markdown",
   "metadata": {},
   "source": [
    "$$\\large \\text{Loading all possible paths for Irradiance files} $$"
   ]
  },
  {
   "cell_type": "code",
   "execution_count": null,
   "metadata": {},
   "outputs": [],
   "source": [
    "def execute(file):\n",
    "    path_list = []\n",
    "    datapath = re.sub(r'Notebooks|Python Scripts','Data/',os.getcwd())\n",
    "    for dir in os.scandir(datapath):\n",
    "        if re.search(r'\\.',dir.name): continue\n",
    "        year_path = datapath + f\"{dir.name}\"\n",
    "        for dir in os.scandir(year_path):\n",
    "            if dir.name == file:\n",
    "                month_path = year_path + f\"/{dir.name}/\"\n",
    "                for dir in os.scandir(month_path):\n",
    "                    if not re.search(r'\\.csv|\\.xlsx',dir.name): continue\n",
    "                    path_list += [month_path + f\"{dir.name}\"]\n",
    "    return path_list"
   ]
  },
  {
   "cell_type": "markdown",
   "metadata": {},
   "source": [
    "$$\\Large \\text{Data Pre-Preprocessing} $$"
   ]
  },
  {
   "cell_type": "markdown",
   "metadata": {},
   "source": [
    "$$\\large \\text{Reshaping dataframe with timestamp index and feature} $$"
   ]
  },
  {
   "cell_type": "code",
   "execution_count": null,
   "metadata": {},
   "outputs": [],
   "source": [
    "def reshape_df(df):\n",
    "    df['DayID'] = df['DayID'].astype(str)\n",
    "    df['TimeID'] = df['TimeID'].astype(str)\n",
    "    df['date'] = df['DayID'] + 'T' +  df['TimeID']\n",
    "    df = df.drop(columns = ['DayID','TimeID'])\n",
    "    df.date = pd.to_datetime(df.date)\n",
    "    df = df.set_index('date')\n",
    "    df.index = df.index.tz_localize(tz = 'Etc/UTC')\n",
    "    df = df.sort_index()\n",
    "    if file == 'Irradiance':\n",
    "        df.columns = ['GlobalIR','DirectIR','DiffuseIR','WindSpeed','Temperature']\n",
    "    else:\n",
    "        df.columns = ['MonoSi_Vin','MonoSi_Iin','MonoSi_Vout','MonoSi_Iout','PolySi_Vin','PolySi_Iin','PolySi_Vout','PolySi_Iout','TFSi_a_Vin','TFSi_a_Iin','TFSi_a_Vout','TFSi_a_Iout','TFcigs_Vin','TFcigs_Iin','TFcigs_Vout','TFcigs_Iout','TempF_Mono','TempF_Poly','TempF_Amor','TempF_Cigs']\n",
    "    return df"
   ]
  },
  {
   "cell_type": "markdown",
   "metadata": {},
   "source": [
    "$$\\large \\text{Creating rows with NaN values where time intervals are greater than greater than 21 seconds} $$"
   ]
  },
  {
   "cell_type": "code",
   "execution_count": null,
   "metadata": {},
   "outputs": [],
   "source": [
    "def add_missing_times(df):\n",
    "    \n",
    "    # creating of list of times to find interval gaps\n",
    "    time_list = list(df.index)\n",
    "    \n",
    "    # calculating interval gaps if > 21s and storing [interval length (s), start_time, end_time]\n",
    "    missing_intervals = [[(time_list[time+1] - time_list[time]).total_seconds(),time_list[time],time_list[time+1]]\n",
    "                 for time in range(len(time_list)-1) if (time_list[time+1] - time_list[time]).total_seconds() > 21]\n",
    "    # generating time stamps to fill interval gaps \n",
    "    interval_list = [element for sublist in [pd.date_range(start=interval[1],\n",
    "                             end=interval[2]-pd.Timedelta(1,'s'),\n",
    "                             freq='11s') for interval in missing_intervals] for element in sublist]\n",
    "    \n",
    "    # checking for missing values at the beginning of the month\n",
    "    if time_list[0] > time_list[0].replace(day=1,hour=1):\n",
    "        print(\"Found a month that has missing values in the beginning of the month.\")\n",
    "        print('Time:',time_list[0])\n",
    "        interval_list += [time for time in pd.date_range(start=time_list[0].replace(day=1,hour=0,minute=0,second=0),\n",
    "                             end=time_list[0]-pd.Timedelta(1,'s'),\n",
    "                             freq='11s')]\n",
    "        missing_intervals += [[(time_list[0] - time_list[0].replace(day=1,hour=0,minute=0,second=0)).total_seconds(),\n",
    "                             time_list[0].replace(day=1,hour=0,minute=0,second=0),time_list[0]]]\n",
    "        \n",
    "    # checking for missing values at the end of the month    \n",
    "    next_month = time_list[0].replace(day=28,hour=0,minute=0,second=0) + pd.Timedelta(4,'d')\n",
    "    last_day = next_month - pd.Timedelta(next_month.day,'d')\n",
    "    if time_list[-1] < last_day.replace(hour = 23,minute=0):\n",
    "        print(\"Found a month that has missing values in the end of the month.\")\n",
    "        print('Time:',time_list[-1])\n",
    "        interval_list += [time for time in pd.date_range(start=time_list[-1],\n",
    "                     end=last_day.replace(hour=23,minute=59,second=59),\n",
    "                     freq='11s')]\n",
    "        missing_intervals += [[(last_day.replace(hour=23,minute=59,second=59) - time_list[-1]).total_seconds(),\n",
    "                             time_list[-1],last_day.replace(hour=23,minute=59,second=59)]]\n",
    "        \n",
    "    interval_list = list(set(interval_list))\n",
    "    mt_df = pd.DataFrame(index=interval_list,columns=df.columns)\n",
    "    mt_df.loc[interval_list] = np.nan\n",
    "    df = pd.concat([df,mt_df], axis = 0).sort_index()\n",
    "\n",
    "    return df"
   ]
  },
  {
   "cell_type": "markdown",
   "metadata": {},
   "source": [
    "$$\\large \\text{Removing night time observations, and irregular air tempature & wind speed values} $$"
   ]
  },
  {
   "cell_type": "code",
   "execution_count": null,
   "metadata": {},
   "outputs": [],
   "source": [
    "def remove_night(df):\n",
    "    lat = 49.102\n",
    "    lon = 6.215\n",
    "    alt = 220\n",
    "    solpos = pvlib.solarposition.get_solarposition(\n",
    "        time=df.index,latitude=lat,longitude=lon,altitude=alt,method='pyephem')\n",
    "    df = df[solpos['zenith'] <= 90]\n",
    "    return df\n",
    "\n",
    "def irr(df):\n",
    "    # Removing Temperature Values #\n",
    "    df[df['Temperature'] > 60] = np.nan\n",
    "\n",
    "    # Removing Wind Speed Values #\n",
    "    df[df['WindSpeed'] > 100] = np.nan\n",
    "\n",
    "    # Removing DirectIR Values #\n",
    "    df[df['DirectIR'] > 2000] = np.nan\n",
    "\n",
    "    # Removing DiffuseIR Values #\n",
    "    df[df['DiffuseIR'] > 2000] = np.nan\n",
    "\n",
    "    # Removing Negative Values #\n",
    "    df[df < 0] = np.nan\n",
    "\n",
    "    return df\n",
    "\n",
    "def deg_fix(df):\n",
    "\n",
    "    # Removing Negative Values #\n",
    "    df[df < 0] = np.nan\n",
    "\n",
    "    return df"
   ]
  },
  {
   "cell_type": "markdown",
   "metadata": {},
   "source": [
    "$$\\large \\text{Function Calls} $$"
   ]
  },
  {
   "cell_type": "code",
   "execution_count": null,
   "metadata": {},
   "outputs": [],
   "source": [
    "def df_cleaner(df,file):\n",
    "\n",
    "    # ==== reshaping df for timestap & adjusted headers ==== #\n",
    "    df = reshape_df(df)\n",
    "\n",
    "    # === filling gaps in time intervals === #\n",
    "    df = add_missing_times(df)\n",
    "\n",
    "    # # ==== Using PvLib to remove nightime values === #\n",
    "    df = remove_night(df)\n",
    "    \n",
    "    if file == 'Irradiance':\n",
    "        # === Removing Values for Irradiance === #\n",
    "        df = irr(df)\n",
    "\n",
    "    else:\n",
    "        # === Removing Values for Deger & Fixed === #\n",
    "        df = deg_fix(df)\n",
    "    \n",
    "    return df"
   ]
  },
  {
   "cell_type": "markdown",
   "metadata": {},
   "source": [
    "$$\\large \\text{Summary of NaN Values} $$"
   ]
  },
  {
   "cell_type": "code",
   "execution_count": null,
   "metadata": {},
   "outputs": [],
   "source": [
    "def summarize_nan(df):\n",
    "    total_nan = df.isna().sum().sum()\n",
    "    total_values = df.size\n",
    "    mt_count = df.isna().all(axis=1).sum()\n",
    "    t_perc = round(total_nan/total_values * 100,3)\n",
    "    mt_perc = round(mt_count*len(df.columns)/total_values * 100,3)\n",
    "    \n",
    "    col_name = []\n",
    "    col_perc = ()\n",
    "    \n",
    "    for col in df.columns:\n",
    "        n_miss = df[col].isna().sum()\n",
    "        perc = round(n_miss / total_values * 100,3)\n",
    "        col_name += [col]\n",
    "        col_perc += (perc,)\n",
    "\n",
    "    return t_perc,mt_perc,col_name,col_perc"
   ]
  },
  {
   "cell_type": "markdown",
   "metadata": {},
   "source": [
    "$$\\large \\text{Creating a dataframe of months and NaN values} $$"
   ]
  },
  {
   "cell_type": "code",
   "execution_count": null,
   "metadata": {},
   "outputs": [],
   "source": [
    "def NaN_by_month(path_list,file):\n",
    "    month_data = []\n",
    "    for path in path_list:\n",
    "        i_df = pd.read_csv(path,sep=\"\\t|,\",engine='python')\n",
    "        if i_df.empty:\n",
    "            raise Exception(f\"The path: {path} loaded an empty dataframe.\")\n",
    "         \n",
    "        o_df = df_cleaner(i_df,file)\n",
    "        nan_perc,m_perc,col_name,col_perc = summarize_nan(o_df)\n",
    "        o_df.index = o_df.index.tz_localize(None)\n",
    "        month_data += [(o_df.index[0].to_period('M'),nan_perc,m_perc) + col_perc]\n",
    "        \n",
    "    month_data = sorted(month_data, key = lambda x : x[1])\n",
    "    return pd.DataFrame(month_data, columns = ['Month','Total NaN %','System Outage NaN %'] + col_name).set_index('Month')"
   ]
  },
  {
   "cell_type": "markdown",
   "metadata": {},
   "source": [
    "$$\\large \\text{Function Calls} $$"
   ]
  },
  {
   "cell_type": "code",
   "execution_count": null,
   "metadata": {},
   "outputs": [],
   "source": [
    "def update(file):\n",
    "    # === path collection start === #\n",
    "    path_list = execute(file)\n",
    "    # === finding month with least NaN values === ###\n",
    "    update_df = NaN_by_month(path_list,file)\n",
    "    path = re.sub(r'Notebooks|Python Scripts','Support Files/',os.getcwd())\n",
    "    update_df.to_csv(path + f'{file}_NaN_All.csv')\n",
    "    main(file)\n",
    "\n",
    "def main(file):\n",
    "    path = re.sub(r'Notebooks|Python Scripts','Support Files/',os.getcwd())\n",
    "    file_data = pd.read_csv(path + f'{file}_NaN_All.csv')\n",
    "    col = [col for col in file_data.columns if col != 'Month']\n",
    "    fig = px.line(file_data, x=file_data.index, y=col, hover_name = 'Month', title=f\"{file}: Percentage of NaN by Month\")\n",
    "    fig.update_xaxes(\n",
    "        rangeslider_visible=True,\n",
    "        rangeselector=dict(\n",
    "            buttons=list([\n",
    "                dict(count=6, label=\"6m\", step=\"month\", stepmode=\"backward\"),\n",
    "                dict(count=1, label=\"1y\", step=\"year\", stepmode=\"backward\"),\n",
    "                dict(step=\"all\")])))\n",
    "    fig.show()\n",
    "    \n",
    "file = input(\"File (opt: Irradiance/Deger/Fixed): \")\n",
    "response = input(\"Last update: April 1st 2023 \\n To continue press: 'Enter' \\n Else type: 'update()' \\n\\t\")\n",
    "\n",
    "if response == 'update()':\n",
    "    update(file)\n",
    "else:\n",
    "    main(file)"
   ]
  }
 ],
 "metadata": {
  "kernelspec": {
   "display_name": "Python 3",
   "language": "python",
   "name": "python3"
  },
  "language_info": {
   "codemirror_mode": {
    "name": "ipython",
    "version": 3
   },
   "file_extension": ".py",
   "mimetype": "text/x-python",
   "name": "python",
   "nbconvert_exporter": "python",
   "pygments_lexer": "ipython3",
   "version": "3.8.10"
  }
 },
 "nbformat": 4,
 "nbformat_minor": 5
}
