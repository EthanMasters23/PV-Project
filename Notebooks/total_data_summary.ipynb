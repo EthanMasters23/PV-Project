{
 "cells": [
  {
   "cell_type": "markdown",
   "id": "9e35d6a4",
   "metadata": {},
   "source": [
    "$$\\large \\text{Packages & Specs} $$"
   ]
  },
  {
   "cell_type": "code",
   "execution_count": null,
   "id": "e4925721",
   "metadata": {},
   "outputs": [],
   "source": [
    "import sys\n",
    "import os\n",
    "import pandas as pd\n",
    "import numpy as np\n",
    "import pvlib\n",
    "import re\n",
    "\n",
    "import matplotlib.pyplot as plt\n",
    "import plotly.express as px\n",
    "\n",
    "module_path = re.sub(r'Notebooks','Python Scripts',os.getcwd())\n",
    "sys.path.append(module_path)\n",
    "from pv_modules import *"
   ]
  },
  {
   "cell_type": "markdown",
   "id": "a53886ef",
   "metadata": {},
   "source": [
    "$$\\large \\text{DataFrame Cleaner} $$"
   ]
  },
  {
   "cell_type": "code",
   "execution_count": null,
   "id": "35cdcc3c",
   "metadata": {},
   "outputs": [],
   "source": [
    "def df_cleaner(df,file):\n",
    "\n",
    "    # ==== reshaping df for timestap & adjusted headers ==== #\n",
    "    df = reshape_df(df,file)\n",
    "\n",
    "    # === filling gaps in time intervals === #\n",
    "    df,_ = add_missing_times(df)\n",
    "\n",
    "    # # ==== Using PvLib to remove nightime values === #\n",
    "    df = remove_night(df)\n",
    "    \n",
    "    if file == 'Irradiance':\n",
    "        # === Removing Values for Irradiance === #\n",
    "        df = clean_irradiance_values(df)\n",
    "\n",
    "    else:\n",
    "        # === Removing Values for Deger & Fixed === #\n",
    "        df = clean_deger_fixed_values(df)\n",
    "    \n",
    "    return df"
   ]
  },
  {
   "cell_type": "markdown",
   "id": "fd678541",
   "metadata": {},
   "source": [
    "$$\\large \\text{Summary of NaN Values} $$"
   ]
  },
  {
   "cell_type": "code",
   "execution_count": null,
   "id": "128b62ea",
   "metadata": {},
   "outputs": [],
   "source": [
    "def summarize_nan(df):\n",
    "    total_nan = df.isna().sum().sum()\n",
    "    total_values = df.size\n",
    "    mt_count = df.isna().all(axis=1).sum()\n",
    "    t_perc = round(total_nan/total_values * 100,3)\n",
    "    mt_perc = round(mt_count*len(df.columns)/total_values * 100,3)\n",
    "    \n",
    "    col_name = []\n",
    "    col_perc = ()\n",
    "    \n",
    "    for col in df.columns:\n",
    "        n_miss = df[col].isna().sum()\n",
    "        perc = round(n_miss / total_values * 100,3)\n",
    "        col_name += [col]\n",
    "        col_perc += (perc,)\n",
    "\n",
    "    return t_perc,mt_perc,col_name,col_perc\n"
   ]
  },
  {
   "cell_type": "markdown",
   "id": "2469e43b",
   "metadata": {},
   "source": [
    "$$\\large \\text{Creating a dataframe of months and NaN values} $$"
   ]
  },
  {
   "cell_type": "code",
   "execution_count": null,
   "id": "5edaf936",
   "metadata": {},
   "outputs": [],
   "source": [
    "def NaN_by_month(path_list,file):\n",
    "    \n",
    "    month_data = []\n",
    "    \n",
    "    for path in path_list:\n",
    "        df = pd.read_csv(path,sep=\"\\t|,\",engine='python')\n",
    "        if df.empty:\n",
    "            raise Exception(f\"The path: {path} loaded an empty dataframe.\")\n",
    "        df = df_cleaner(df,file)\n",
    "        nan_perc,m_perc,col_name,col_perc = summarize_nan(df)\n",
    "        df.index = df.index.tz_localize(None)\n",
    "        month_data += [(df.index[0],nan_perc,m_perc) + col_perc]\n",
    "        \n",
    "    month_data = sorted(month_data, key = lambda x : x[1])\n",
    "    return pd.DataFrame(month_data, columns = ['Month','Total NaN %','System Outage NaN %'] + col_name).set_index('Month')"
   ]
  },
  {
   "cell_type": "markdown",
   "id": "7cd0458f",
   "metadata": {},
   "source": [
    "$$\\large \\text{Function Calls} $$"
   ]
  },
  {
   "cell_type": "code",
   "execution_count": null,
   "id": "eac9aead",
   "metadata": {},
   "outputs": [],
   "source": [
    "def main(file):\n",
    "    \n",
    "    path = re.sub(r'Notebooks|Python Scripts','Support Files/',os.getcwd())\n",
    "    file_data = pd.read_csv(path + f'{file}_NaN_All.csv', index_col = 'Month').sort_index()\n",
    "    col = [col for col in file_data.columns if col != 'Month']\n",
    "    fig = px.line(file_data, x=file_data.index, y=col, title=f\"{file}: Percentage of NaN by Month\")\n",
    "    fig.update_xaxes(\n",
    "        rangeslider_visible=True,\n",
    "        rangeselector=dict(\n",
    "            buttons=list([\n",
    "                dict(count=6, label=\"6m\", step=\"month\", stepmode=\"backward\"),\n",
    "                dict(count=1, label=\"1y\", step=\"year\", stepmode=\"backward\"),\n",
    "                dict(step=\"all\")])))\n",
    "    fig.show()\n",
    "    file_data.index = pd.to_datetime(file_data.index)\n",
    "    file_data.index = file_data.index.strftime('%B %Y')\n",
    "    file_data = file_data.sort_values('Total NaN %')\n",
    "    latex_code = file_data.to_latex(index=True)\n",
    "\n",
    "    # Print LaTeX code\n",
    "#     print(latex_code)\n",
    "\n",
    "def update(file):\n",
    "    path_list = get_file_paths(file)\n",
    "    update_df = NaN_by_month(path_list,file)\n",
    "    path = re.sub(r'Notebooks|Python Scripts','Support Files/',os.getcwd())\n",
    "    update_df.to_csv(path + f'{file}_NaN_All.csv')\n",
    "    main(file)\n",
    "    \n",
    "file = input(\"File (opt: Irradiance/Deger/Fixed): \")\n",
    "response = input(\"Last update: May 23rd 2023 \\n To continue press: 'Enter' \\n Else type: 'update()' \\n\\t\")\n",
    "if not [file_i for file_i in ['Irradiance','Deger','Fixed'] if re.search(fr'{file}',file_i)]:\n",
    "    raise Exception(f\"Incorret Input: File\")\n",
    "if response == 'update()':\n",
    "    update(file)\n",
    "else:\n",
    "    main(file)"
   ]
  },
  {
   "cell_type": "code",
   "execution_count": null,
   "id": "b0a52c41",
   "metadata": {},
   "outputs": [],
   "source": []
  }
 ],
 "metadata": {
  "kernelspec": {
   "display_name": "Python 3 (ipykernel)",
   "language": "python",
   "name": "python3"
  },
  "language_info": {
   "codemirror_mode": {
    "name": "ipython",
    "version": 3
   },
   "file_extension": ".py",
   "mimetype": "text/x-python",
   "name": "python",
   "nbconvert_exporter": "python",
   "pygments_lexer": "ipython3",
   "version": "3.9.13"
  }
 },
 "nbformat": 4,
 "nbformat_minor": 5
}
