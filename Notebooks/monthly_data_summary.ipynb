{
 "cells": [
  {
   "cell_type": "markdown",
   "id": "253f738c",
   "metadata": {},
   "source": [
    "$$\\large \\text{Packages & Specs} $$"
   ]
  },
  {
   "cell_type": "code",
   "execution_count": null,
   "id": "60335b3c",
   "metadata": {},
   "outputs": [],
   "source": [
    "import os\n",
    "import sys\n",
    "import pandas as pd\n",
    "import numpy as np\n",
    "import re\n",
    "import json\n",
    "\n",
    "import plotly.express as px\n",
    "\n",
    "import scipy\n",
    "\n",
    "module_path = re.sub(r'Notebooks','Python Scripts',os.getcwd())\n",
    "sys.path.append(module_path)\n",
    "from pv_modules import *"
   ]
  },
  {
   "cell_type": "markdown",
   "id": "07b46101",
   "metadata": {},
   "source": [
    "$$\\large \\text{Dataframe Cleaner} $$"
   ]
  },
  {
   "cell_type": "code",
   "execution_count": null,
   "id": "1b51e636",
   "metadata": {},
   "outputs": [],
   "source": [
    "def df_cleaner(path_list,file):\n",
    "    \n",
    "    df = pd.DataFrame()\n",
    "    outlier_output = pd.DataFrame()\n",
    "\n",
    "    missing_intervals = []\n",
    "\n",
    "    for path in path_list:\n",
    "\n",
    "        df_load = pd.read_csv(path,sep=\"\\t|,\",engine='python')\n",
    "        \n",
    "        if df_load.empty:\n",
    "            raise Exception(f\"The path: {path} loaded an empty dataframe.\")\n",
    "        \n",
    "        # ==== reshaping df for timestap & adjusted headers ==== #\n",
    "        df_load = reshape_df(df_load,file)\n",
    "        \n",
    "        # === copy df for outlier pre-processed === #\n",
    "        outlier_output = pd.concat([outlier_output,df_load.copy()],axis=0,ignore_index=False)\n",
    "\n",
    "        # === filling gaps in time intervals === #\n",
    "        df_load, m_intervals = add_missing_times(df_load)\n",
    "\n",
    "        # ==== Using PvLib to remove nightime values === #\n",
    "        df_load = remove_night(df_load)\n",
    "        \n",
    "        if file == 'Irradiance':\n",
    "            df_load = clean_irradiance_values(df_load)\n",
    "        else:\n",
    "            df_load = clean_deger_fixed_values(df_load)\n",
    "            \n",
    "        # === Time Features === #\n",
    "        df_load = time_features(df_load)\n",
    "        \n",
    "        df = pd.concat([df,df_load],axis=0,ignore_index=False).sort_index()\n",
    "        missing_intervals += m_intervals\n",
    "    \n",
    "    return df, missing_intervals, outlier_output"
   ]
  },
  {
   "cell_type": "markdown",
   "id": "7c9cedb4",
   "metadata": {},
   "source": [
    "$$\\Large \\text{Summary of NaN Values} $$"
   ]
  },
  {
   "cell_type": "code",
   "execution_count": null,
   "id": "9442b168",
   "metadata": {},
   "outputs": [],
   "source": [
    "def summarize_nan(df):\n",
    "    total_nan = df.drop(['day','month','year'],axis=1).isna().sum().sum()\n",
    "    total_values = df.drop(['day','month','year'],axis=1).size\n",
    "    mt_count = df.drop(['day','month','year'],axis=1).isna().all(axis=1).sum()\n",
    "    t_perc = round(total_nan/total_values * 100,3)\n",
    "    mt_perc = round(mt_count*(len(df.columns)-3)/total_values * 100,3)\n",
    "\n",
    "    print(f\"\\nPercentage of NaN values due to System Outage: {mt_perc}% \\n\")\n",
    "    \n",
    "    print(f\"Precentage of MAR NaN values: {round(t_perc-mt_perc,3)}% \\n\")\n",
    "\n",
    "    print(f\"Precentage of Total NaN values: {t_perc}%\")\n",
    "\n",
    "    print(\"\\n Missing values by column\")\n",
    "\n",
    "    for col in df.columns:\n",
    "        if not col in ['day','month','year']:\n",
    "            n_miss = df[col].isna().sum()\n",
    "            perc = round(n_miss / df.shape[0] * 100,3)\n",
    "            print(f\"{col}, Missing: {n_miss} ({perc}%)\")\n",
    "\n",
    "    print(\"\\n Missing values by day\")\n",
    "\n",
    "    for row in df['day'].unique():\n",
    "        n_miss = df[df['day']==row].drop(['day','month','year'],axis=1).isna().sum().sum()\n",
    "        perc = round(n_miss / df[df['day']==row].drop(['day','month','year'],axis=1).size * 100,3)\n",
    "        print(f\"{row}, Missing: {n_miss} ({perc}%)\")\n",
    "    \n",
    "    if len(df['month'].unique()) == 1: return\n",
    "    \n",
    "    print('Hi')\n",
    "    \n",
    "    print(\"\\n Missing values by month\")    \n",
    "\n",
    "    for row in sorted(df['month'].unique()):\n",
    "        n_miss = df[df['month']==row].drop(['day','month','year'],axis=1).isna().sum().sum()\n",
    "        perc = round(n_miss / df[df['month']==row].drop(['day','month','year'],axis=1).size * 100,3)\n",
    "        print(f\"{row}, Missing: {n_miss} ({perc}%)\")\n",
    "\n",
    "    print(\"\\n Missing values by year\")    \n",
    "\n",
    "    for row in df['year'].unique():\n",
    "        n_miss = df[df['year']==row].drop(['day','month','year'],axis=1).isna().sum().sum()\n",
    "        perc = round(n_miss / df[df['year']==row].drop(['day','month','year'],axis=1).size * 100,3)\n",
    "        print(f\"{row}, Missing: {n_miss} ({perc}%) \\n\")"
   ]
  },
  {
   "cell_type": "markdown",
   "id": "7775281a",
   "metadata": {},
   "source": [
    "$$\\large \\text{Scatter plot of time intervals that were recorded as missing times} $$"
   ]
  },
  {
   "cell_type": "code",
   "execution_count": null,
   "id": "b504a282",
   "metadata": {},
   "outputs": [],
   "source": [
    "def mt_fig(missing_intervals):\n",
    "    interval_df = pd.DataFrame(missing_intervals,\n",
    "                               columns=['seconds','start_time','end_time'])\n",
    "    arr = interval_df['seconds']\n",
    "    z_scores = np.abs((arr - arr.mean()) / arr.std())\n",
    "    threshold = 2\n",
    "    outliers = arr[z_scores > threshold]\n",
    "    if len(outliers):\n",
    "        print(f\"\\tNumber of outliers {len(outliers)}, min: {sorted(outliers)[0]}, max: {sorted(outliers)[-1]} \\n\")\n",
    "    print(f'\\tThe average missing time: {arr.mean()}')\n",
    "    print(f'\\tThe median missing time: {arr.median()}')\n",
    "    print(f'\\tThe mode missing time: {arr.mode()[0]}')\n",
    "    print(\"Scatter plot of the system outage (in seconds) over time without outliers:\")\n",
    "    px.scatter(interval_df, x='start_time',y='seconds',\n",
    "               hover_data=['start_time','end_time'],\n",
    "               title='Intervals in Time of Missing Observations').show()"
   ]
  },
  {
   "cell_type": "markdown",
   "id": "0b72c0e8",
   "metadata": {},
   "source": [
    "$$\\large \\text{Scatter plot of all variables over time} $$"
   ]
  },
  {
   "cell_type": "code",
   "execution_count": null,
   "id": "7ce0677c",
   "metadata": {},
   "outputs": [],
   "source": [
    "def col_fig(df):\n",
    "    for col in df.drop(['day','month','year'],axis=1).columns:\n",
    "        px.scatter(df, x=df.index, y=f'{col}',title=f'{col}').show()"
   ]
  },
  {
   "cell_type": "markdown",
   "id": "f27bd483",
   "metadata": {},
   "source": [
    "$$\\large \\text{Scatter plot of timestamps} $$"
   ]
  },
  {
   "cell_type": "code",
   "execution_count": null,
   "id": "257f11a8",
   "metadata": {},
   "outputs": [],
   "source": [
    "def timestamps_fig(df):\n",
    "    df['Seconds'] = [(time - time.replace(hour=0, minute=0,\n",
    "                    second=0, microsecond=0)).total_seconds()for time in df.index]\n",
    "    df = df.dropna(axis=0)   \n",
    "    px.scatter(df, y='Seconds').show()"
   ]
  },
  {
   "cell_type": "markdown",
   "id": "350b395b",
   "metadata": {},
   "source": [
    "$$\\large \\text{Correlation Matrix} $$"
   ]
  },
  {
   "cell_type": "code",
   "execution_count": null,
   "id": "781572a7",
   "metadata": {},
   "outputs": [],
   "source": [
    "def corr_matrix(df):\n",
    "    df = df.drop(['day','month','year'],axis=1)\n",
    "    df = df.dropna()\n",
    "    \n",
    "    corrs = []\n",
    "    p_values = []\n",
    "    \n",
    "    for feat1 in df.columns:\n",
    "        corr_list = []\n",
    "        p_list = []\n",
    "        for feat2 in df.columns:\n",
    "            corr, p_value = scipy.stats.spearmanr(df[feat1], df[feat2])\n",
    "            corr_list += [corr]\n",
    "            p_list += [p_value]\n",
    "        corrs += [corr_list]\n",
    "        p_values += [p_list]\n",
    "        \n",
    "    corr_matrix = pd.DataFrame(corrs, index = df.columns, columns = df.columns)\n",
    "    px.imshow(corr_matrix,text_auto=True,title=\"Correlation Matrix\").show()  "
   ]
  },
  {
   "cell_type": "markdown",
   "id": "f916fea8",
   "metadata": {},
   "source": [
    "$$\\large \\text{Summary of outliers by variable} $$"
   ]
  },
  {
   "cell_type": "code",
   "execution_count": null,
   "id": "3f791f1a",
   "metadata": {},
   "outputs": [],
   "source": [
    "def outliers(df,pre):\n",
    "    indicator = True\n",
    "    if pre: df = df.drop(['day','month','year'],axis=1)\n",
    "    for col in df.columns:\n",
    "        arr = df[col]\n",
    "        z_scores = np.abs((arr - arr.mean()) / arr.std())\n",
    "        threshold = 3\n",
    "        outliers = arr[z_scores > threshold]\n",
    "        if len(outliers):\n",
    "            indicator = False\n",
    "            print(f\"{col} number of outliers {len(outliers)}, min: {sorted(outliers)[0]}, max: {sorted(outliers)[-1]} \\n\")\n",
    "    if indicator: print(\"There were no outliers found pre-processing. \\n\")"
   ]
  },
  {
   "cell_type": "markdown",
   "id": "59ab25a8",
   "metadata": {},
   "source": [
    "$$\\large \\text{Figure of NaN Gaps} $$"
   ]
  },
  {
   "cell_type": "code",
   "execution_count": null,
   "id": "6987528e",
   "metadata": {},
   "outputs": [],
   "source": [
    "def nan_gaps(df):\n",
    "    nan_gaps = []\n",
    "    for col in range(len(df.columns)):\n",
    "        inx_ind = []\n",
    "        for index in range(len(df.index)):\n",
    "            if index in inx_ind: continue\n",
    "            c = 0\n",
    "            while np.isnan(df.iloc[index+c,col]) and df.index[index+c] != df.index[-1] and df.index[index+c].day == df.index[index].day:\n",
    "                inx_ind += [index+c]\n",
    "                c += 1\n",
    "            if not c: continue\n",
    "            dt = (df.index[index+c] - df.index[index]).total_seconds()\n",
    "            nan_gaps += [[dt, df.index[index], df.index[index+c], df.columns[col]]]\n",
    "            \n",
    "    nan_df = pd.DataFrame(nan_gaps, columns = ['Seconds', 'Start Time', 'End Time', 'Column'])\n",
    "    \n",
    "    print(nan_df)\n",
    "    \n",
    "    arr = nan_df['Seconds']\n",
    "    z_scores = np.abs((arr - arr.mean()) / arr.std())\n",
    "    threshold = 2\n",
    "    outliers = arr[z_scores > threshold]\n",
    "    \n",
    "    if len(outliers):\n",
    "        print(f\"\\n\\tNumber of outliers {len(outliers)}, min: {sorted(outliers)[0]}, max: {sorted(outliers)[-1]}\")\n",
    "    print(f'\\tThe average of the missing times: {arr.mean()}')\n",
    "    print(f'\\tThe median of the missing times: {arr.median()}')\n",
    "    print(f'\\tThe mode of the missing times: {arr.mode()[0]}')\n",
    "    print(\"Scatter plot of the system outage (in seconds) over time without outliers:\")\n",
    "    px.scatter(nan_df, x = nan_df.index, y = 'Seconds', hover_data = ['Start Time','End Time', 'Column']\n",
    "                ,title = 'Scatter plot of the NaN gaps (in seconds) over time:').show()"
   ]
  },
  {
   "cell_type": "markdown",
   "id": "f74e27ca",
   "metadata": {},
   "source": [
    "$$\\large \\text{Summary Function Calls} $$"
   ]
  },
  {
   "cell_type": "code",
   "execution_count": null,
   "id": "1f0a1cfd",
   "metadata": {},
   "outputs": [],
   "source": [
    "def summary(path_list,file,update=False):\n",
    "    \n",
    "    df, missing_intervals, outlier_output = df_cleaner(path_list,file)\n",
    "        \n",
    "    # printing Summary of NaN Values\n",
    "    print(\"\\nSummary of NaN Values\")\n",
    "    summarize_nan(df)\n",
    "\n",
    "    # printing outliers pre-processing\n",
    "    print(\"\\n\\nSummary of outliers (if any) for pre-processed data:\\n\")\n",
    "    outliers(outlier_output,pre = False)\n",
    "\n",
    "    # printing outliers post-processing\n",
    "    print(\"\\n\\nSummary of outliers (if any) for post-processed data:\\n\")\n",
    "    outliers(df,pre = True)\n",
    "    \n",
    "    # Figure of nan gaps\n",
    "    print('\\n\\nScatter plot of the NaN gaps (in seconds) over time:\\n')\n",
    "    # too computational heavy\n",
    "    print(nan_gaps(df))\n",
    "    \n",
    "    # Summary of Missing Intervals\n",
    "    print('\\n\\nSummary of Missing Intervals:\\n')\n",
    "    mt_fig(missing_intervals)\n",
    "    \n",
    "\n",
    "    # figure's of all variables plotted over time\n",
    "    print(\"\\n\\nFigure's of all variables plotted over time:\\n\")\n",
    "    col_fig(df)\n",
    "    \n",
    "    # figure of correlation matrix\n",
    "    print(\"\\n\\nCorrelation Matrix:\\n\")\n",
    "    corr_matrix(df)"
   ]
  },
  {
   "cell_type": "markdown",
   "id": "7fd9e49a",
   "metadata": {},
   "source": [
    "$$\\large \\text{Main Function} $$"
   ]
  },
  {
   "cell_type": "code",
   "execution_count": null,
   "id": "73c2c12b",
   "metadata": {},
   "outputs": [],
   "source": [
    "def main(year,month,file):\n",
    "    if not [file_i for file_i in ['Irradiance','Deger','Fixed'] if re.search(fr'{file}',file_i)]:\n",
    "            raise Exception(f\"Incorret Input: File\")\n",
    "    elif not year and not month:\n",
    "        path_list = get_file_paths(file)\n",
    "        summary(path_list,file)\n",
    "    elif not re.search(r'\\d{4}',year):\n",
    "        raise Exception(f\"Incorret Input: Year\")\n",
    "    elif not re.search(r'[A-Za-z]{3}',month):\n",
    "        raise Exception(f\"Incorret Input: Month\")\n",
    "    else:\n",
    "        path_list = get_file_paths(file)\n",
    "        path_list = path_function(year,month,path_list,file)\n",
    "        summary(path_list,file)\n",
    "\n",
    "main(year = input(\"Year (format: YYYY): \"), month = input(\"Month (format: jul): \"),\n",
    "     file = input(\"File (opt: Irradiance/Deger/Fixed): \"))"
   ]
  }
 ],
 "metadata": {
  "celltoolbar": "Raw Cell Format",
  "kernelspec": {
   "display_name": "Python 3 (ipykernel)",
   "language": "python",
   "name": "python3"
  },
  "language_info": {
   "codemirror_mode": {
    "name": "ipython",
    "version": 3
   },
   "file_extension": ".py",
   "mimetype": "text/x-python",
   "name": "python",
   "nbconvert_exporter": "python",
   "pygments_lexer": "ipython3",
   "version": "3.9.13"
  }
 },
 "nbformat": 4,
 "nbformat_minor": 5
}
