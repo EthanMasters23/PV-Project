{
 "cells": [
  {
   "cell_type": "code",
   "execution_count": null,
   "id": "3e74a8af",
   "metadata": {},
   "outputs": [],
   "source": [
    "import pandas as pd\n",
    "import plotly.express as px\n",
    "import numpy as np"
   ]
  },
  {
   "cell_type": "code",
   "execution_count": null,
   "id": "879c5350",
   "metadata": {},
   "outputs": [],
   "source": [
    "df = pd.read_csv('/Data_Summary_Files/test_data.csv', index_col='Unnamed: 0')\n",
    "df.index = pd.to_datetime(df.index)\n",
    "df"
   ]
  },
  {
   "cell_type": "code",
   "execution_count": null,
   "id": "bbe921ae",
   "metadata": {},
   "outputs": [],
   "source": [
    "figure = px.scatter(df, y='DiffuseIR')\n",
    "figure_2 = px.scatter(df, y ='DirectIR')\n",
    "figure_3 = px.scatter(df, y='WindSpeed')\n",
    "figure_4 = px.scatter(df, y='Temperature')\n",
    "def fig(df):\n",
    "    df['Seconds'] = [(time - time.replace(hour=0, minute=0, second=0, microsecond=0)).total_seconds() for time in df.index]\n",
    "    df['Seconds'] = np.where(df[['DiffuseIR','DirectIR','WindSpeed','Temperature']].isna().all(axis=1), np.nan, df['Seconds'])\n",
    "    return px.scatter(df, y='Seconds')\n",
    "figure_5 = fig(df)"
   ]
  },
  {
   "cell_type": "code",
   "execution_count": null,
   "id": "826cba2a",
   "metadata": {},
   "outputs": [],
   "source": [
    "figure.show()"
   ]
  },
  {
   "cell_type": "code",
   "execution_count": null,
   "id": "48c8e0dd",
   "metadata": {},
   "outputs": [],
   "source": [
    "figure_2.show()"
   ]
  },
  {
   "cell_type": "code",
   "execution_count": null,
   "id": "7ffb83b6",
   "metadata": {},
   "outputs": [],
   "source": [
    "figure_3.show()"
   ]
  },
  {
   "cell_type": "code",
   "execution_count": null,
   "id": "c1b125ce",
   "metadata": {},
   "outputs": [],
   "source": [
    "figure_5.show()"
   ]
  },
  {
   "cell_type": "code",
   "execution_count": null,
   "id": "899c783b",
   "metadata": {},
   "outputs": [],
   "source": [
    "figure_4.show()"
   ]
  },
  {
   "cell_type": "code",
   "execution_count": null,
   "id": "569ea50c",
   "metadata": {},
   "outputs": [],
   "source": [
    "df"
   ]
  }
 ],
 "metadata": {
  "kernelspec": {
   "display_name": "Python 3 (ipykernel)",
   "language": "python",
   "name": "python3"
  },
  "language_info": {
   "codemirror_mode": {
    "name": "ipython",
    "version": 3
   },
   "file_extension": ".py",
   "mimetype": "text/x-python",
   "name": "python",
   "nbconvert_exporter": "python",
   "pygments_lexer": "ipython3",
   "version": "3.9.13"
  }
 },
 "nbformat": 4,
 "nbformat_minor": 5
}
